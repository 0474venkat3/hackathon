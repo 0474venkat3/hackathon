{
 "cells": [
  {
   "cell_type": "code",
   "execution_count": 27,
   "id": "9bda13cd",
   "metadata": {},
   "outputs": [],
   "source": [
    "import matplotlib.pyplot as plt\n",
    "import seaborn as sns\n",
    "import pandas as pd"
   ]
  },
  {
   "cell_type": "code",
   "execution_count": 28,
   "id": "3866dadc",
   "metadata": {},
   "outputs": [],
   "source": [
    "#match\n",
    "file_path1 = r\"C:\\Users\\user\\clsls\\matches.csv\"\n",
    "df1 = pd.read_csv(file_path1)\n",
    "\n",
    "#delivery\n",
    "file_path2 = r\"C:\\Users\\user\\clsls\\deliveries.csv\"\n",
    "df2 = pd.read_csv(file_path2)"
   ]
  },
  {
   "cell_type": "code",
   "execution_count": 29,
   "id": "72c63c70",
   "metadata": {},
   "outputs": [
    {
     "name": "stdout",
     "output_type": "stream",
     "text": [
      "\n",
      "Dataset 2:\n",
      "   match_id  inning         batting_team                 bowling_team  over  \\\n",
      "0         1       1  Sunrisers Hyderabad  Royal Challengers Bangalore     1   \n",
      "1         1       1  Sunrisers Hyderabad  Royal Challengers Bangalore     1   \n",
      "2         1       1  Sunrisers Hyderabad  Royal Challengers Bangalore     1   \n",
      "3         1       1  Sunrisers Hyderabad  Royal Challengers Bangalore     1   \n",
      "4         1       1  Sunrisers Hyderabad  Royal Challengers Bangalore     1   \n",
      "\n",
      "   ball    batsman non_striker    bowler  is_super_over  ...  bye_runs  \\\n",
      "0     1  DA Warner    S Dhawan  TS Mills              0  ...         0   \n",
      "1     2  DA Warner    S Dhawan  TS Mills              0  ...         0   \n",
      "2     3  DA Warner    S Dhawan  TS Mills              0  ...         0   \n",
      "3     4  DA Warner    S Dhawan  TS Mills              0  ...         0   \n",
      "4     5  DA Warner    S Dhawan  TS Mills              0  ...         0   \n",
      "\n",
      "   legbye_runs  noball_runs  penalty_runs  batsman_runs  extra_runs  \\\n",
      "0            0            0             0             0           0   \n",
      "1            0            0             0             0           0   \n",
      "2            0            0             0             4           0   \n",
      "3            0            0             0             0           0   \n",
      "4            0            0             0             0           2   \n",
      "\n",
      "   total_runs  player_dismissed dismissal_kind fielder  \n",
      "0           0               NaN            NaN     NaN  \n",
      "1           0               NaN            NaN     NaN  \n",
      "2           4               NaN            NaN     NaN  \n",
      "3           0               NaN            NaN     NaN  \n",
      "4           2               NaN            NaN     NaN  \n",
      "\n",
      "[5 rows x 21 columns]\n"
     ]
    }
   ],
   "source": [
    "print(\"\\nDataset 2:\")\n",
    "print(df2.head())"
   ]
  },
  {
   "cell_type": "code",
   "execution_count": 30,
   "id": "4b02ea1d",
   "metadata": {},
   "outputs": [
    {
     "name": "stdout",
     "output_type": "stream",
     "text": [
      "Info for Dataset 1:\n",
      "<class 'pandas.core.frame.DataFrame'>\n",
      "RangeIndex: 756 entries, 0 to 755\n",
      "Data columns (total 18 columns):\n",
      " #   Column           Non-Null Count  Dtype \n",
      "---  ------           --------------  ----- \n",
      " 0   id               756 non-null    int64 \n",
      " 1   season           756 non-null    int64 \n",
      " 2   city             749 non-null    object\n",
      " 3   date             756 non-null    object\n",
      " 4   team1            756 non-null    object\n",
      " 5   team2            756 non-null    object\n",
      " 6   toss_winner      756 non-null    object\n",
      " 7   toss_decision    756 non-null    object\n",
      " 8   result           756 non-null    object\n",
      " 9   dl_applied       756 non-null    int64 \n",
      " 10  winner           752 non-null    object\n",
      " 11  win_by_runs      756 non-null    int64 \n",
      " 12  win_by_wickets   756 non-null    int64 \n",
      " 13  player_of_match  752 non-null    object\n",
      " 14  venue            756 non-null    object\n",
      " 15  umpire1          754 non-null    object\n",
      " 16  umpire2          754 non-null    object\n",
      " 17  umpire3          119 non-null    object\n",
      "dtypes: int64(5), object(13)\n",
      "memory usage: 106.4+ KB\n",
      "None\n",
      "\n",
      "Info for Dataset 2:\n",
      "<class 'pandas.core.frame.DataFrame'>\n",
      "RangeIndex: 179078 entries, 0 to 179077\n",
      "Data columns (total 21 columns):\n",
      " #   Column            Non-Null Count   Dtype \n",
      "---  ------            --------------   ----- \n",
      " 0   match_id          179078 non-null  int64 \n",
      " 1   inning            179078 non-null  int64 \n",
      " 2   batting_team      179078 non-null  object\n",
      " 3   bowling_team      179078 non-null  object\n",
      " 4   over              179078 non-null  int64 \n",
      " 5   ball              179078 non-null  int64 \n",
      " 6   batsman           179078 non-null  object\n",
      " 7   non_striker       179078 non-null  object\n",
      " 8   bowler            179078 non-null  object\n",
      " 9   is_super_over     179078 non-null  int64 \n",
      " 10  wide_runs         179078 non-null  int64 \n",
      " 11  bye_runs          179078 non-null  int64 \n",
      " 12  legbye_runs       179078 non-null  int64 \n",
      " 13  noball_runs       179078 non-null  int64 \n",
      " 14  penalty_runs      179078 non-null  int64 \n",
      " 15  batsman_runs      179078 non-null  int64 \n",
      " 16  extra_runs        179078 non-null  int64 \n",
      " 17  total_runs        179078 non-null  int64 \n",
      " 18  player_dismissed  8834 non-null    object\n",
      " 19  dismissal_kind    8834 non-null    object\n",
      " 20  fielder           6448 non-null    object\n",
      "dtypes: int64(13), object(8)\n",
      "memory usage: 28.7+ MB\n",
      "None\n"
     ]
    }
   ],
   "source": [
    "print(\"Info for Dataset 1:\")\n",
    "print(df1.info())\n",
    "\n",
    "print(\"\\nInfo for Dataset 2:\")\n",
    "print(df2.info())"
   ]
  },
  {
   "cell_type": "code",
   "execution_count": 31,
   "id": "92eb11d5",
   "metadata": {},
   "outputs": [
    {
     "name": "stdout",
     "output_type": "stream",
     "text": [
      "Descriptive statistics for Dataset 1:\n",
      "                 id       season  dl_applied  win_by_runs  win_by_wickets\n",
      "count    756.000000   756.000000  756.000000   756.000000      756.000000\n",
      "mean    1792.178571  2013.444444    0.025132    13.283069        3.350529\n",
      "std     3464.478148     3.366895    0.156630    23.471144        3.387963\n",
      "min        1.000000  2008.000000    0.000000     0.000000        0.000000\n",
      "25%      189.750000  2011.000000    0.000000     0.000000        0.000000\n",
      "50%      378.500000  2013.000000    0.000000     0.000000        4.000000\n",
      "75%      567.250000  2016.000000    0.000000    19.000000        6.000000\n",
      "max    11415.000000  2019.000000    1.000000   146.000000       10.000000\n",
      "\n",
      "Descriptive statistics for Dataset 2:\n",
      "            match_id         inning           over           ball  \\\n",
      "count  179078.000000  179078.000000  179078.000000  179078.000000   \n",
      "mean     1802.252957       1.482952      10.162488       3.615587   \n",
      "std      3472.322805       0.502074       5.677684       1.806966   \n",
      "min         1.000000       1.000000       1.000000       1.000000   \n",
      "25%       190.000000       1.000000       5.000000       2.000000   \n",
      "50%       379.000000       1.000000      10.000000       4.000000   \n",
      "75%       567.000000       2.000000      15.000000       5.000000   \n",
      "max     11415.000000       5.000000      20.000000       9.000000   \n",
      "\n",
      "       is_super_over      wide_runs       bye_runs    legbye_runs  \\\n",
      "count  179078.000000  179078.000000  179078.000000  179078.000000   \n",
      "mean        0.000452       0.036721       0.004936       0.021136   \n",
      "std         0.021263       0.251161       0.116480       0.194908   \n",
      "min         0.000000       0.000000       0.000000       0.000000   \n",
      "25%         0.000000       0.000000       0.000000       0.000000   \n",
      "50%         0.000000       0.000000       0.000000       0.000000   \n",
      "75%         0.000000       0.000000       0.000000       0.000000   \n",
      "max         1.000000       5.000000       4.000000       5.000000   \n",
      "\n",
      "         noball_runs   penalty_runs   batsman_runs     extra_runs  \\\n",
      "count  179078.000000  179078.000000  179078.000000  179078.000000   \n",
      "mean        0.004183       0.000056       1.246864       0.067032   \n",
      "std         0.070492       0.016709       1.608270       0.342553   \n",
      "min         0.000000       0.000000       0.000000       0.000000   \n",
      "25%         0.000000       0.000000       0.000000       0.000000   \n",
      "50%         0.000000       0.000000       1.000000       0.000000   \n",
      "75%         0.000000       0.000000       1.000000       0.000000   \n",
      "max         5.000000       5.000000       7.000000       7.000000   \n",
      "\n",
      "          total_runs  \n",
      "count  179078.000000  \n",
      "mean        1.313897  \n",
      "std         1.605422  \n",
      "min         0.000000  \n",
      "25%         0.000000  \n",
      "50%         1.000000  \n",
      "75%         1.000000  \n",
      "max        10.000000  \n"
     ]
    }
   ],
   "source": [
    "print(\"Descriptive statistics for Dataset 1:\")\n",
    "print(df1.describe())\n",
    "\n",
    "print(\"\\nDescriptive statistics for Dataset 2:\")\n",
    "print(df2.describe())"
   ]
  },
  {
   "cell_type": "code",
   "execution_count": 32,
   "id": "fbf3e20a",
   "metadata": {},
   "outputs": [
    {
     "data": {
      "text/plain": [
       "<Axes: xlabel='season', ylabel='count'>"
      ]
     },
     "execution_count": 32,
     "metadata": {},
     "output_type": "execute_result"
    },
    {
     "data": {
      "image/png": "[encoded data removed]",
      "text/plain": [
       "<Figure size 1000x600 with 1 Axes>"
      ]
     },
     "metadata": {},
     "output_type": "display_data"
    }
   ],
   "source": [
    "plt.figure(figsize=(10, 6))\n",
    "\n",
    "sns.countplot(x='city', data=df1, color='blue', label='File 1')\n",
    "sns.countplot(x='season', data=df1, color='orange', label='File 2')"
   ]
  },
  {
   "cell_type": "code",
   "execution_count": 33,
   "id": "13e86d5e",
   "metadata": {},
   "outputs": [
    {
     "name": "stdout",
     "output_type": "stream",
     "text": [
      "Index(['id', 'season', 'city', 'date', 'team1', 'team2', 'toss_winner',\n",
      "       'toss_decision', 'result', 'dl_applied', 'winner', 'win_by_runs',\n",
      "       'win_by_wickets', 'player_of_match', 'venue', 'umpire1', 'umpire2',\n",
      "       'umpire3'],\n",
      "      dtype='object')\n",
      "city\n",
      "Abu Dhabi          14098\n",
      "Ahmedabad          24156\n",
      "Bangalore         132861\n",
      "Bengaluru          28259\n",
      "Bloemfontein        4018\n",
      "Cape Town          14063\n",
      "Centurion          24108\n",
      "Chandigarh         92582\n",
      "Chennai           114724\n",
      "Cuttack            14086\n",
      "Delhi             149030\n",
      "Dharamsala         18103\n",
      "Durban             30135\n",
      "East London         6027\n",
      "Hyderabad         128927\n",
      "Indore             18145\n",
      "Jaipur             94622\n",
      "Johannesburg       16072\n",
      "Kanpur              8066\n",
      "Kimberley           6027\n",
      "Kochi              10055\n",
      "Kolkata           155078\n",
      "Mohali             20187\n",
      "Mumbai            203344\n",
      "Nagpur              6030\n",
      "Port Elizabeth     14063\n",
      "Pune               76563\n",
      "Raipur             12088\n",
      "Rajkot             20165\n",
      "Ranchi             14097\n",
      "Sharjah            12084\n",
      "Visakhapatnam      26203\n",
      "Name: season, dtype: int64\n"
     ]
    }
   ],
   "source": [
    "import pandas as pd\n",
    "\n",
    "print(df1.columns)\n",
    "sss= df1.groupby('city')['season'].sum()\n",
    "\n",
    "print(sss)"
   ]
  },
  {
   "cell_type": "code",
   "execution_count": null,
   "id": "d11baa16",
   "metadata": {},
   "outputs": [],
   "source": []
  },
  {
   "cell_type": "code",
   "execution_count": null,
   "id": "e3c3bdf2",
   "metadata": {},
   "outputs": [],
   "source": []
  }
 ],
 "metadata": {
  "kernelspec": {
   "display_name": "Python 3 (ipykernel)",
   "language": "python",
   "name": "python3"
  },
  "language_info": {
   "codemirror_mode": {
    "name": "ipython",
    "version": 3
   },
   "file_extension": ".py",
   "mimetype": "text/x-python",
   "name": "python",
   "nbconvert_exporter": "python",
   "pygments_lexer": "ipython3",
   "version": "3.11.4"
  }
 },
 "nbformat": 4,
 "nbformat_minor": 5
}
